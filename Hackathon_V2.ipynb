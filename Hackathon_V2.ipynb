{
 "cells": [
  {
   "cell_type": "markdown",
   "metadata": {},
   "source": [
    "## Hackathon V2"
   ]
  },
  {
   "cell_type": "markdown",
   "metadata": {},
   "source": [
    "## Setting up Environment:\n"
   ]
  },
  {
   "cell_type": "code",
   "execution_count": 34,
   "metadata": {},
   "outputs": [],
   "source": [
    "import pandas as pd\n",
    "import numpy as np\n",
    "import os\n",
    "from termcolor import colored\n",
    "from sklearn.metrics import f1_score, classification_report, confusion_matrix\n",
    "from sklearn.linear_model import LogisticRegression\n",
    "from sklearn.model_selection import StratifiedKFold,train_test_split\n",
    "from catboost import CatBoostClassifier\n",
    "from collections import Counter\n",
    "import matplotlib.pyplot as plt\n",
    "import seaborn as sns\n",
    "import math\n",
    "import datetime\n",
    "import warnings\n",
    "warnings.filterwarnings('ignore')"
   ]
  },
  {
   "cell_type": "markdown",
   "metadata": {},
   "source": [
    "## Data Cleaning & Feature Creation Functions:\n"
   ]
  },
  {
   "cell_type": "code",
   "execution_count": 35,
   "metadata": {},
   "outputs": [],
   "source": [
    "def df_null_percentage(df = None):\n",
    "    \"\"\"\n",
    "    input: DataFrame\n",
    "    returns: % of Nulls in the dataframe's rows \n",
    "    \"\"\"\n",
    "    train_missing = (1 - df.count()/len(df)) * 100\n",
    "    return train_missing.sort_values(ascending = False)\n",
    "\n",
    "def get_date_cols(df = None):\n",
    "    date_cols =[]\n",
    "    for col in df.columns:\n",
    "        if 'Date' in col:\n",
    "            date_cols.append(col)\n",
    "    if len(date_cols) > 0:\n",
    "        return date_cols\n",
    "    else:\n",
    "        return('The COlumn name doesnot have Date string')\n",
    "\n",
    "\n",
    "\n",
    "#Date Conversion:\n",
    "def date_format_conversion(df = None):\n",
    "    \"\"\"\n",
    "    Function converts all the columns having 'Date' in datetimestamp\n",
    "    \"\"\"\n",
    "    date_cols = get_date_cols(df)\n",
    "    for col in df.columns:\n",
    "        if col in date_cols:\n",
    "            df[col] = pd.to_datetime(df[col])\n",
    "    return df\n",
    "\n",
    "\n",
    "def valid_age(age:int):\n",
    "    if age < 0:\n",
    "        if abs(age) >= 18 and abs(age) < 100:\n",
    "            return int(abs(age))\n",
    "    elif age < 18:\n",
    "        return np.nan\n",
    "    elif age > 100:\n",
    "        return np.nan\n",
    "    else:\n",
    "        return int(age)\n",
    "\n",
    "\n",
    "def gender_map(gender:object):\n",
    "\n",
    "    if type(gender) != str:\n",
    "        return 'other'\n",
    "    else:\n",
    "        if gender.lower() == 'male':\n",
    "            return 'male'\n",
    "        elif gender.lower() == 'female':\n",
    "            return 'female'\n",
    "        else:\n",
    "            return 'other'\n",
    "\n",
    "def generate_policy_tenure(df,granularity = \"months\"):\n",
    "    policy_tenure_days = (df['Policy End Date'] - df['Policy Start Date']).dt.days\n",
    "     \n",
    "    if granularity.lower() == \"months\":\n",
    "        df[\"Policy_Tenure\"+\"_\"+granularity] = round(policy_tenure_days/30)\n",
    "    \n",
    "\n",
    "    return df\n",
    "        \n",
    "\n",
    "     \n",
    "    \n",
    "\n",
    "def create_date_features(df,colname):\n",
    "    '''\n",
    "        Creates date features like month,day, year etc.\n",
    "\n",
    "        Feel free to add more features and customize\n",
    "    '''\n",
    "\n",
    "    df[colname+'_month'] = df[colname].dt.month\n",
    "    df[colname+'_year'] = df[colname].dt.year\n",
    "    df[colname+'_day_of_week'] = df[colname].dt.dayofweek\n",
    "\n",
    "    df= df.drop(colname,axis=1)\n",
    "\n",
    "    return df"
   ]
  },
  {
   "cell_type": "markdown",
   "metadata": {},
   "source": [
    "## Reading and Cleaning the data:\n"
   ]
  },
  {
   "cell_type": "code",
   "execution_count": 36,
   "metadata": {},
   "outputs": [],
   "source": [
    "raw_df = pd.read_csv('Data/Train.csv')"
   ]
  },
  {
   "cell_type": "code",
   "execution_count": 37,
   "metadata": {},
   "outputs": [
    {
     "data": {
      "text/plain": [
       "Subject_Car_Colour        57.637222\n",
       "State                     53.713056\n",
       "LGA_Name                  53.613710\n",
       "Car_Category              30.946270\n",
       "Subject_Car_Make          20.498386\n",
       "Gender                     2.972100\n",
       "ID                         0.000000\n",
       "Policy Start Date          0.000000\n",
       "Policy End Date            0.000000\n",
       "Age                        0.000000\n",
       "First Transaction Date     0.000000\n",
       "No_Pol                     0.000000\n",
       "ProductName                0.000000\n",
       "target                     0.000000\n",
       "dtype: float64"
      ]
     },
     "execution_count": 37,
     "metadata": {},
     "output_type": "execute_result"
    }
   ],
   "source": [
    "df_null_percentage(raw_df)"
   ]
  },
  {
   "cell_type": "code",
   "execution_count": 38,
   "metadata": {},
   "outputs": [],
   "source": [
    "# Sanity Checks for Age and Gender\n",
    "raw_df.Gender= raw_df.Gender.map(lambda x: gender_map(x))\n",
    "raw_df.Age = raw_df.Age.map(lambda x: valid_age(x))"
   ]
  },
  {
   "cell_type": "code",
   "execution_count": 39,
   "metadata": {},
   "outputs": [],
   "source": [
    "categorical_features = list(raw_df.select_dtypes(['O']).nunique().index)"
   ]
  },
  {
   "cell_type": "code",
   "execution_count": 40,
   "metadata": {},
   "outputs": [],
   "source": [
    "date_cols = get_date_cols(raw_df)"
   ]
  },
  {
   "cell_type": "code",
   "execution_count": 41,
   "metadata": {},
   "outputs": [
    {
     "name": "stdout",
     "output_type": "stream",
     "text": [
      "['Gender', 'ProductName', 'Car_Category', 'Subject_Car_Make', 'LGA_Name', 'State', 'Subject_Car_Colour']\n"
     ]
    }
   ],
   "source": [
    "\n",
    "\n",
    "categorical_features= set(categorical_features) - set(date_cols) \n",
    "categorical_features.remove(\"ID\")\n",
    "categorical_features = list(categorical_features)\n",
    "print(categorical_features)\n"
   ]
  },
  {
   "cell_type": "code",
   "execution_count": 42,
   "metadata": {},
   "outputs": [],
   "source": [
    "# In this iteration, Will Impute the values for : Subject_Car_Colour, State ,LGA_Name \n",
    "\n",
    "# Cell to Impute all Categorical Missing values with the Modes\n",
    "\n",
    "\n",
    "for column in categorical_features:\n",
    "\n",
    "    raw_df[column].fillna(raw_df[column].mode()[0], inplace=True)\n",
    "\n"
   ]
  },
  {
   "cell_type": "code",
   "execution_count": 43,
   "metadata": {},
   "outputs": [],
   "source": [
    "# Fixing the missing values for Continous/ Numerical Columns\n",
    "numerical_features = list(raw_df.select_dtypes(['int64','float64']).nunique().index)\n",
    "for column in numerical_features:\n",
    "\n",
    "    raw_df[column].fillna(round(raw_df[column].mean()), inplace=True)"
   ]
  },
  {
   "cell_type": "code",
   "execution_count": 44,
   "metadata": {},
   "outputs": [],
   "source": [
    "insurance_application_df = date_format_conversion(raw_df)"
   ]
  },
  {
   "cell_type": "code",
   "execution_count": 45,
   "metadata": {},
   "outputs": [
    {
     "data": {
      "text/plain": [
       "ID                        0.0\n",
       "Policy Start Date         0.0\n",
       "Policy End Date           0.0\n",
       "Gender                    0.0\n",
       "Age                       0.0\n",
       "First Transaction Date    0.0\n",
       "No_Pol                    0.0\n",
       "Car_Category              0.0\n",
       "Subject_Car_Colour        0.0\n",
       "Subject_Car_Make          0.0\n",
       "LGA_Name                  0.0\n",
       "State                     0.0\n",
       "ProductName               0.0\n",
       "target                    0.0\n",
       "dtype: float64"
      ]
     },
     "execution_count": 45,
     "metadata": {},
     "output_type": "execute_result"
    }
   ],
   "source": [
    "df_null_percentage(insurance_application_df)\n"
   ]
  },
  {
   "cell_type": "code",
   "execution_count": 46,
   "metadata": {},
   "outputs": [
    {
     "name": "stdout",
     "output_type": "stream",
     "text": [
      "Shape of the cleaned data: (12079, 14)\n"
     ]
    }
   ],
   "source": [
    "print(f\"Shape of the cleaned data: {insurance_application_df.shape}\")"
   ]
  },
  {
   "cell_type": "code",
   "execution_count": 47,
   "metadata": {},
   "outputs": [
    {
     "name": "stdout",
     "output_type": "stream",
     "text": [
      "['Policy Start Date', 'Policy End Date']\n"
     ]
    }
   ],
   "source": [
    "#We can see that the Policy Start Date Date is as same as First Transaction Date, we can drop one from our analysis\n",
    "#sum(insurance_application_df[\"Policy Start Date\"] != insurance_application_df[\"First Transaction Date\"])\n",
    "insurance_application_df.drop([\"First Transaction Date\"],1, inplace=True)\n",
    "print(f\"{get_date_cols(insurance_application_df)}\")"
   ]
  },
  {
   "cell_type": "markdown",
   "metadata": {},
   "source": [
    "## Feature Creation"
   ]
  },
  {
   "cell_type": "markdown",
   "metadata": {},
   "source": [
    " Policy Tenure creation\n",
    "\n",
    "We can see that we have three date columns given-\n",
    "\n",
    "* Policy Start Date\n",
    "* Policy End Date\n",
    "* First Transaction Date\n",
    "\n",
    "We can create some meaningful features that will answer the questions like below- \n",
    "* What was the tenure of policy in months? \n",
    "* What were the months, days, etc corresponding to a given Policy Start and End date. \n",
    "* If First Transaction date is similar to Policy Start Date, can we drop it ? "
   ]
  },
  {
   "cell_type": "code",
   "execution_count": 48,
   "metadata": {},
   "outputs": [],
   "source": [
    "#Policy Tenure in Months:\n",
    "insurance_application_df = generate_policy_tenure(insurance_application_df)\n"
   ]
  },
  {
   "cell_type": "code",
   "execution_count": 49,
   "metadata": {},
   "outputs": [],
   "source": [
    "date_features_final = get_date_cols(insurance_application_df)\n",
    "for date_col in date_features_final :\n",
    "   insurance_application_df = create_date_features(insurance_application_df,date_col)\n",
    "    \n"
   ]
  },
  {
   "cell_type": "code",
   "execution_count": 50,
   "metadata": {},
   "outputs": [],
   "source": [
    "# Age should be an int value\n",
    "insurance_application_df.Age = insurance_application_df.Age.map(lambda x: int(x))"
   ]
  },
  {
   "cell_type": "code",
   "execution_count": 53,
   "metadata": {},
   "outputs": [],
   "source": [
    "# Policy Tenure should be int value\n",
    "insurance_application_df.Policy_Tenure_months = insurance_application_df.Policy_Tenure_months.map(lambda x: int(x))"
   ]
  },
  {
   "cell_type": "code",
   "execution_count": 56,
   "metadata": {},
   "outputs": [
    {
     "data": {
      "text/html": [
       "<div>\n",
       "<style scoped>\n",
       "    .dataframe tbody tr th:only-of-type {\n",
       "        vertical-align: middle;\n",
       "    }\n",
       "\n",
       "    .dataframe tbody tr th {\n",
       "        vertical-align: top;\n",
       "    }\n",
       "\n",
       "    .dataframe thead th {\n",
       "        text-align: right;\n",
       "    }\n",
       "</style>\n",
       "<table border=\"1\" class=\"dataframe\">\n",
       "  <thead>\n",
       "    <tr style=\"text-align: right;\">\n",
       "      <th></th>\n",
       "      <th>ID</th>\n",
       "      <th>Gender</th>\n",
       "      <th>Age</th>\n",
       "      <th>No_Pol</th>\n",
       "      <th>Car_Category</th>\n",
       "      <th>Subject_Car_Colour</th>\n",
       "      <th>Subject_Car_Make</th>\n",
       "      <th>LGA_Name</th>\n",
       "      <th>State</th>\n",
       "      <th>ProductName</th>\n",
       "      <th>target</th>\n",
       "      <th>Policy_Tenure_months</th>\n",
       "      <th>Policy Start Date_month</th>\n",
       "      <th>Policy Start Date_year</th>\n",
       "      <th>Policy Start Date_day_of_week</th>\n",
       "      <th>Policy End Date_month</th>\n",
       "      <th>Policy End Date_year</th>\n",
       "      <th>Policy End Date_day_of_week</th>\n",
       "    </tr>\n",
       "  </thead>\n",
       "  <tbody>\n",
       "    <tr>\n",
       "      <th>0</th>\n",
       "      <td>ID_0040R73</td>\n",
       "      <td>male</td>\n",
       "      <td>30</td>\n",
       "      <td>1</td>\n",
       "      <td>Saloon</td>\n",
       "      <td>Black</td>\n",
       "      <td>TOYOTA</td>\n",
       "      <td>Victoria Island</td>\n",
       "      <td>Lagos</td>\n",
       "      <td>Car Classic</td>\n",
       "      <td>0</td>\n",
       "      <td>12</td>\n",
       "      <td>5</td>\n",
       "      <td>2010</td>\n",
       "      <td>4</td>\n",
       "      <td>5</td>\n",
       "      <td>2011</td>\n",
       "      <td>4</td>\n",
       "    </tr>\n",
       "    <tr>\n",
       "      <th>1</th>\n",
       "      <td>ID_0046BNK</td>\n",
       "      <td>female</td>\n",
       "      <td>79</td>\n",
       "      <td>1</td>\n",
       "      <td>JEEP</td>\n",
       "      <td>Grey</td>\n",
       "      <td>TOYOTA</td>\n",
       "      <td>Victoria Island</td>\n",
       "      <td>Lagos</td>\n",
       "      <td>Car Classic</td>\n",
       "      <td>1</td>\n",
       "      <td>12</td>\n",
       "      <td>11</td>\n",
       "      <td>2010</td>\n",
       "      <td>0</td>\n",
       "      <td>11</td>\n",
       "      <td>2011</td>\n",
       "      <td>0</td>\n",
       "    </tr>\n",
       "    <tr>\n",
       "      <th>2</th>\n",
       "      <td>ID_005QMC3</td>\n",
       "      <td>male</td>\n",
       "      <td>43</td>\n",
       "      <td>1</td>\n",
       "      <td>Saloon</td>\n",
       "      <td>Red</td>\n",
       "      <td>TOYOTA</td>\n",
       "      <td>Victoria Island</td>\n",
       "      <td>Lagos</td>\n",
       "      <td>Car Classic</td>\n",
       "      <td>0</td>\n",
       "      <td>12</td>\n",
       "      <td>3</td>\n",
       "      <td>2010</td>\n",
       "      <td>6</td>\n",
       "      <td>3</td>\n",
       "      <td>2011</td>\n",
       "      <td>6</td>\n",
       "    </tr>\n",
       "    <tr>\n",
       "      <th>3</th>\n",
       "      <td>ID_0079OHW</td>\n",
       "      <td>male</td>\n",
       "      <td>43</td>\n",
       "      <td>1</td>\n",
       "      <td>Saloon</td>\n",
       "      <td>Black</td>\n",
       "      <td>TOYOTA</td>\n",
       "      <td>Victoria Island</td>\n",
       "      <td>Lagos</td>\n",
       "      <td>CarSafe</td>\n",
       "      <td>0</td>\n",
       "      <td>12</td>\n",
       "      <td>8</td>\n",
       "      <td>2010</td>\n",
       "      <td>5</td>\n",
       "      <td>8</td>\n",
       "      <td>2011</td>\n",
       "      <td>5</td>\n",
       "    </tr>\n",
       "    <tr>\n",
       "      <th>4</th>\n",
       "      <td>ID_00BRP63</td>\n",
       "      <td>other</td>\n",
       "      <td>20</td>\n",
       "      <td>3</td>\n",
       "      <td>Saloon</td>\n",
       "      <td>Black</td>\n",
       "      <td>TOYOTA</td>\n",
       "      <td>Lagos</td>\n",
       "      <td>Lagos</td>\n",
       "      <td>Muuve</td>\n",
       "      <td>1</td>\n",
       "      <td>4</td>\n",
       "      <td>8</td>\n",
       "      <td>2010</td>\n",
       "      <td>6</td>\n",
       "      <td>12</td>\n",
       "      <td>2010</td>\n",
       "      <td>4</td>\n",
       "    </tr>\n",
       "  </tbody>\n",
       "</table>\n",
       "</div>"
      ],
      "text/plain": [
       "           ID  Gender  Age  No_Pol Car_Category Subject_Car_Colour  \\\n",
       "0  ID_0040R73    male   30       1       Saloon              Black   \n",
       "1  ID_0046BNK  female   79       1         JEEP               Grey   \n",
       "2  ID_005QMC3    male   43       1       Saloon                Red   \n",
       "3  ID_0079OHW    male   43       1       Saloon              Black   \n",
       "4  ID_00BRP63   other   20       3       Saloon              Black   \n",
       "\n",
       "  Subject_Car_Make         LGA_Name  State  ProductName  target  \\\n",
       "0           TOYOTA  Victoria Island  Lagos  Car Classic       0   \n",
       "1           TOYOTA  Victoria Island  Lagos  Car Classic       1   \n",
       "2           TOYOTA  Victoria Island  Lagos  Car Classic       0   \n",
       "3           TOYOTA  Victoria Island  Lagos      CarSafe       0   \n",
       "4           TOYOTA            Lagos  Lagos        Muuve       1   \n",
       "\n",
       "   Policy_Tenure_months  Policy Start Date_month  Policy Start Date_year  \\\n",
       "0                    12                        5                    2010   \n",
       "1                    12                       11                    2010   \n",
       "2                    12                        3                    2010   \n",
       "3                    12                        8                    2010   \n",
       "4                     4                        8                    2010   \n",
       "\n",
       "   Policy Start Date_day_of_week  Policy End Date_month  Policy End Date_year  \\\n",
       "0                              4                      5                  2011   \n",
       "1                              0                     11                  2011   \n",
       "2                              6                      3                  2011   \n",
       "3                              5                      8                  2011   \n",
       "4                              6                     12                  2010   \n",
       "\n",
       "   Policy End Date_day_of_week  \n",
       "0                            4  \n",
       "1                            0  \n",
       "2                            6  \n",
       "3                            5  \n",
       "4                            4  "
      ]
     },
     "execution_count": 56,
     "metadata": {},
     "output_type": "execute_result"
    }
   ],
   "source": [
    "insurance_application_df.head()"
   ]
  }
 ],
 "metadata": {
  "kernelspec": {
   "display_name": "Python 3.8.10 64-bit",
   "language": "python",
   "name": "python3"
  },
  "language_info": {
   "codemirror_mode": {
    "name": "ipython",
    "version": 3
   },
   "file_extension": ".py",
   "mimetype": "text/x-python",
   "name": "python",
   "nbconvert_exporter": "python",
   "pygments_lexer": "ipython3",
   "version": "3.8.10"
  },
  "orig_nbformat": 4,
  "vscode": {
   "interpreter": {
    "hash": "df9ab1ad987ace32d67e6f3e674234acefb120848f9b3ea74ffd63e683f494c7"
   }
  }
 },
 "nbformat": 4,
 "nbformat_minor": 2
}
